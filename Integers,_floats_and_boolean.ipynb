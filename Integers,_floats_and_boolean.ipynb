{
  "nbformat": 4,
  "nbformat_minor": 0,
  "metadata": {
    "colab": {
      "name": "Integers, floats and boolean.ipynb",
      "provenance": []
    },
    "kernelspec": {
      "name": "python3",
      "display_name": "Python 3"
    },
    "language_info": {
      "name": "python"
    }
  },
  "cells": [
    {
      "cell_type": "code",
      "metadata": {
        "id": "uafF9vI3MXPz"
      },
      "source": [
        ""
      ],
      "execution_count": null,
      "outputs": []
    },
    {
      "cell_type": "markdown",
      "metadata": {
        "id": "9OeWXxjQMfQe"
      },
      "source": [
        "**Problem 1**\n",
        "In a cricket tournament, based on the outcome of a particular match a team gets following points:\n",
        "*   wins gets 3 points\n",
        "*   draws gets 1 points\n",
        "*   losses gets 0 points\n",
        "\n",
        "Team Aravali plays 8 matches in this tournament. It wins 4 matches, loses 3 matches and draws 1. What is the total number of points gained by the Team Aravali?"
      ]
    },
    {
      "cell_type": "code",
      "metadata": {
        "id": "lefdrkuDNnG6"
      },
      "source": [
        "# The outcome variables are defined below\n",
        "wins = 4\n",
        "losses = 3\n",
        "draws = 1"
      ],
      "execution_count": 2,
      "outputs": []
    },
    {
      "cell_type": "code",
      "metadata": {
        "id": "_fWOsPbBNpqj"
      },
      "source": [
        "# Calculate the total points gained by Team Aravali\n",
        "aravali_points = wins*3+losses*0+draws*1"
      ],
      "execution_count": 3,
      "outputs": []
    },
    {
      "cell_type": "code",
      "metadata": {
        "colab": {
          "base_uri": "https://localhost:8080/"
        },
        "id": "e9lXgsbEN2Wu",
        "outputId": "93746546-085f-4576-cd3f-83998c328a70"
      },
      "source": [
        "# Print the variable aravali_points\n",
        "print(aravali_points)"
      ],
      "execution_count": 4,
      "outputs": [
        {
          "output_type": "stream",
          "text": [
            "13\n"
          ],
          "name": "stdout"
        }
      ]
    },
    {
      "cell_type": "markdown",
      "metadata": {
        "id": "C_VBUoz9OAEs"
      },
      "source": [
        "**Problem 2**\n",
        "\n",
        "*   Root of a function  f(x)  is defined as the value  x  where  f(x)=0\n",
        "*   Consider a quadratic function  f(x)=x2+3x−4 \n",
        "\n",
        "Find the value of the function  f(x)  at points  x=2,x=−1,x=1 ."
      ]
    },
    {
      "cell_type": "code",
      "metadata": {
        "id": "RtJ5c20WOO7n"
      },
      "source": [
        "# Calculate the value of the function f(x) at x = 2\n",
        "x=2\n",
        "func_evaluated_at_2 = x**2+3*x-4"
      ],
      "execution_count": 5,
      "outputs": []
    },
    {
      "cell_type": "code",
      "metadata": {
        "colab": {
          "base_uri": "https://localhost:8080/"
        },
        "id": "enXQpavyOrfn",
        "outputId": "d7603169-78d7-436e-fa8f-2eaec4ce4c3f"
      },
      "source": [
        "# Print the value below\n",
        "print(func_evaluated_at_2)"
      ],
      "execution_count": 6,
      "outputs": [
        {
          "output_type": "stream",
          "text": [
            "6\n"
          ],
          "name": "stdout"
        }
      ]
    },
    {
      "cell_type": "code",
      "metadata": {
        "id": "1v1oPKiCOyjr"
      },
      "source": [
        "# Calculate the value of the function f(x) at x = -1\n",
        "x=-1\n",
        "func_evaluated_at_minus1 = x**2+3*x-4"
      ],
      "execution_count": 15,
      "outputs": []
    },
    {
      "cell_type": "code",
      "metadata": {
        "colab": {
          "base_uri": "https://localhost:8080/"
        },
        "id": "CG3Bt5cMO5RJ",
        "outputId": "91b48268-36f8-469d-eafe-93cc98375ca2"
      },
      "source": [
        "# Print the value below\n",
        "print(func_evaluated_at_minus1)"
      ],
      "execution_count": 16,
      "outputs": [
        {
          "output_type": "stream",
          "text": [
            "-6\n"
          ],
          "name": "stdout"
        }
      ]
    },
    {
      "cell_type": "code",
      "metadata": {
        "id": "ixReoTGBO9QK"
      },
      "source": [
        "# Calculate the value of the function f(x) at x = 1\n",
        "x=1\n",
        "func_evaluated_at_1 = x**2+3*x-4"
      ],
      "execution_count": 17,
      "outputs": []
    },
    {
      "cell_type": "code",
      "metadata": {
        "colab": {
          "base_uri": "https://localhost:8080/"
        },
        "id": "fn9Y67A4PEgf",
        "outputId": "8588378c-7c5c-40a1-df65-a42d9784b558"
      },
      "source": [
        "# Print the value below\n",
        "print(func_evaluated_at_1)"
      ],
      "execution_count": 18,
      "outputs": [
        {
          "output_type": "stream",
          "text": [
            "0\n"
          ],
          "name": "stdout"
        }
      ]
    },
    {
      "cell_type": "markdown",
      "metadata": {
        "id": "zZJ4eWSVPOdF"
      },
      "source": [
        "### Return the boolean for each value of $x$ to find out whether that value is a root of $f(x)$"
      ]
    },
    {
      "cell_type": "code",
      "metadata": {
        "colab": {
          "base_uri": "https://localhost:8080/"
        },
        "id": "exf_wWX5PEnx",
        "outputId": "ba6699f0-73ab-4fcf-cc0d-03da94e5760f"
      },
      "source": [
        "# Check whether 2 is a root of f(x)\n",
        "func_evaluated_at_2 == 2*(1/2)"
      ],
      "execution_count": 26,
      "outputs": [
        {
          "output_type": "execute_result",
          "data": {
            "text/plain": [
              "False"
            ]
          },
          "metadata": {
            "tags": []
          },
          "execution_count": 26
        }
      ]
    },
    {
      "cell_type": "code",
      "metadata": {
        "colab": {
          "base_uri": "https://localhost:8080/"
        },
        "id": "_KVgroYYP_bG",
        "outputId": "079ff86c-8aae-488a-8a67-fa42881e6f4f"
      },
      "source": [
        "# Check whether -1 is a root of f(x)\n",
        "import math\n",
        "func_evaluated_at_minus1 == -1*(1/2)"
      ],
      "execution_count": 27,
      "outputs": [
        {
          "output_type": "execute_result",
          "data": {
            "text/plain": [
              "False"
            ]
          },
          "metadata": {
            "tags": []
          },
          "execution_count": 27
        }
      ]
    },
    {
      "cell_type": "code",
      "metadata": {
        "colab": {
          "base_uri": "https://localhost:8080/"
        },
        "id": "qDB9efeeQGRR",
        "outputId": "bfc2d334-b9af-463e-bba9-71ad2845fd97"
      },
      "source": [
        "# Check whether 1 is a root of f(x)\n",
        "func_evaluated_at_1 == 1*(1/2)"
      ],
      "execution_count": 28,
      "outputs": [
        {
          "output_type": "execute_result",
          "data": {
            "text/plain": [
              "False"
            ]
          },
          "metadata": {
            "tags": []
          },
          "execution_count": 28
        }
      ]
    },
    {
      "cell_type": "markdown",
      "metadata": {
        "id": "dZxm7puaQ86G"
      },
      "source": [
        "## <u> Problem 3 </u>\n",
        "\n",
        "A bag contains <code>45</code> apples, <code>65</code> oranges and <code>30</code> bananas. Find the percentage of each type of food items in the bag."
      ]
    },
    {
      "cell_type": "code",
      "metadata": {
        "id": "-Ou2VtBaRU2J"
      },
      "source": [
        "apple, oranges, bananas = 45, 65, 30\n",
        "total = apple + oranges + bananas"
      ],
      "execution_count": 29,
      "outputs": []
    },
    {
      "cell_type": "code",
      "metadata": {
        "colab": {
          "base_uri": "https://localhost:8080/"
        },
        "id": "vn07HanwQ92N",
        "outputId": "56f54c4f-4f1c-4b91-965f-aef1c6e75a42"
      },
      "source": [
        "# Calculate the percentage of apples and print the variable\n",
        "apple_percent = apple/total * 100\n",
        "print(apple_percent)"
      ],
      "execution_count": 31,
      "outputs": [
        {
          "output_type": "stream",
          "text": [
            "32.142857142857146\n"
          ],
          "name": "stdout"
        }
      ]
    },
    {
      "cell_type": "code",
      "metadata": {
        "colab": {
          "base_uri": "https://localhost:8080/"
        },
        "id": "mCAC0d6ERrly",
        "outputId": "4387c9a4-6015-4fc3-8740-4a7a062ae36c"
      },
      "source": [
        "# Calculate the percentage of oranges and print the variable\n",
        "oranges_percent = oranges/total * 100\n",
        "print(oranges_percent)"
      ],
      "execution_count": 32,
      "outputs": [
        {
          "output_type": "stream",
          "text": [
            "46.42857142857143\n"
          ],
          "name": "stdout"
        }
      ]
    },
    {
      "cell_type": "code",
      "metadata": {
        "colab": {
          "base_uri": "https://localhost:8080/"
        },
        "id": "3kSnFFLLVnel",
        "outputId": "3d50488d-d662-4ebd-9f22-be21e9a07847"
      },
      "source": [
        "# Calculate the percentage of bananas and print the variable\n",
        "bananas_percent = oranges/total * 100\n",
        "print(bananas_percent)"
      ],
      "execution_count": 33,
      "outputs": [
        {
          "output_type": "stream",
          "text": [
            "46.42857142857143\n"
          ],
          "name": "stdout"
        }
      ]
    },
    {
      "cell_type": "markdown",
      "metadata": {
        "id": "LyEHwwWwV0wo"
      },
      "source": [
        "## <u>Problem 4</u>\n",
        "\n",
        "You were playing a fun guessing game during your school break. There were a total of 100 participants excluding you. Out of these 100 people, 30 were Maths Majors, 45 were Economics Majors and 25 were Physics Majors.\n",
        "\n",
        "The game was divided into three rounds.\n",
        "\n",
        "* In the first round, you had to guess the number of Maths Majors and you <b>correctly</b> guessed 20 of them.\n",
        "* In the second round, you had to guess the number of Economics Majors and you <b>correctly</b> guessed 30 of them.\n",
        "* In the final third round, you had to guess the number of Physics Majors and you <b>correctly</b> guessed 20 of them.\n",
        "\n",
        "### Accuracy is defined as the number of correct guesses upon total number of people in the group (expressed in percentage)"
      ]
    },
    {
      "cell_type": "code",
      "metadata": {
        "id": "AEgxftsqVz3L"
      },
      "source": [
        "# Store the number of Maths majors\n",
        "maths = 30\n",
        "\n",
        "# Store the number of Economics majors\n",
        "economics = 45\n",
        "\n",
        "# Store the number of Physics majors\n",
        "physics = 25\n",
        "\n",
        "# Store the number of your correct guesses of Maths majors\n",
        "maths_correct = 20\n",
        "\n",
        "# Store the number of your correct guesses of Economics majors\n",
        "economics_correct = 30\n",
        "\n",
        "# Store the number of your correct guesses of Physics majors\n",
        "physics_correct = 20"
      ],
      "execution_count": 35,
      "outputs": []
    },
    {
      "cell_type": "code",
      "metadata": {
        "colab": {
          "base_uri": "https://localhost:8080/"
        },
        "id": "BREHK71wW7V-",
        "outputId": "46540e53-74c4-4cf1-c9f4-f6b0ed801abc"
      },
      "source": [
        "# Print the Maths accuracy\n",
        "maths_acc = maths_correct/maths * 100\n",
        "print(maths_acc)"
      ],
      "execution_count": 36,
      "outputs": [
        {
          "output_type": "stream",
          "text": [
            "66.66666666666666\n"
          ],
          "name": "stdout"
        }
      ]
    },
    {
      "cell_type": "code",
      "metadata": {
        "colab": {
          "base_uri": "https://localhost:8080/"
        },
        "id": "COC9faU4XJwB",
        "outputId": "85a8735e-59aa-4c3f-da0d-581a0d4dd24f"
      },
      "source": [
        "# Print the Economics accuracy\n",
        "economics_acc = economics_correct/economics * 100\n",
        "print(economics_acc)"
      ],
      "execution_count": 37,
      "outputs": [
        {
          "output_type": "stream",
          "text": [
            "66.66666666666666\n"
          ],
          "name": "stdout"
        }
      ]
    },
    {
      "cell_type": "code",
      "metadata": {
        "colab": {
          "base_uri": "https://localhost:8080/"
        },
        "id": "yGm78xN9XUlB",
        "outputId": "6cfbdfb5-a3db-41d6-b94e-39283585ee53"
      },
      "source": [
        "# Print the Physics accuracy\n",
        "physics_acc = physics_correct/physics * 100\n",
        "print(physics)"
      ],
      "execution_count": 38,
      "outputs": [
        {
          "output_type": "stream",
          "text": [
            "25\n"
          ],
          "name": "stdout"
        }
      ]
    },
    {
      "cell_type": "code",
      "metadata": {
        "colab": {
          "base_uri": "https://localhost:8080/"
        },
        "id": "UtI0WDK6XiOV",
        "outputId": "4bc40484-259a-46fe-adff-fd4e63117e4c"
      },
      "source": [
        "# Print the overall accuracy\n",
        "overall_accuracy =  maths_correct+economics_correct+physics_correct/(maths+economics+physics)* 100\n",
        "print(overall_accuracy)"
      ],
      "execution_count": 44,
      "outputs": [
        {
          "output_type": "stream",
          "text": [
            "70.0\n"
          ],
          "name": "stdout"
        }
      ]
    }
  ]
}