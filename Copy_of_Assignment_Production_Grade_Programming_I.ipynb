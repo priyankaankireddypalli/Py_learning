{
  "nbformat": 4,
  "nbformat_minor": 0,
  "metadata": {
    "kernelspec": {
      "display_name": "Python 3",
      "language": "python",
      "name": "python3"
    },
    "language_info": {
      "codemirror_mode": {
        "name": "ipython",
        "version": 3
      },
      "file_extension": ".py",
      "mimetype": "text/x-python",
      "name": "python",
      "nbconvert_exporter": "python",
      "pygments_lexer": "ipython3",
      "version": "3.7.4"
    },
    "colab": {
      "name": "Copy of Assignment  - Production Grade Programming I.ipynb",
      "provenance": [],
      "collapsed_sections": []
    }
  },
  "cells": [
    {
      "cell_type": "markdown",
      "metadata": {
        "id": "8WbUJEVzs8Bx"
      },
      "source": [
        "## <u>While doing this assignment only use those concepts which have been taught till now</u>"
      ]
    },
    {
      "cell_type": "markdown",
      "metadata": {
        "id": "77zLnpaNvNSp"
      },
      "source": [
        "# <u> Problem 1</u>\n",
        "\n",
        "### Create a class <code>Cylinder</code> which takes two attributes <code>radius</code> and <code>height</code>.\n",
        "\n",
        "### Create the following methods in this class:\n",
        "\n",
        "* ### method <code>volume()</code> which calculates the volume of the cyinder which is defined as $V  = \\pi r^2 h$\n",
        "\n",
        "* ### method <code>surface_area()</code> which calculates the area of the cyinder which is defined as $S  = 2\\pi r h$. Assume this is an open cylinder\n"
      ]
    },
    {
      "cell_type": "code",
      "metadata": {
        "id": "-cWkCZ5OzX0G"
      },
      "source": [
        "# Write your code below. Take pi as 3.14\n",
        "class Cylinder:\n",
        "  def __init__(self, radius=1, height=1):\n",
        "    self.radius = radius\n",
        "    self.height = height\n",
        "  def volume(self):\n",
        "    vol = 3.14 * (self.radius ** 2) * self.height\n",
        "    print(\"volume of cylinder is :\",vol)\n",
        "  def surface_area(self):\n",
        "    area = 2*3.142*self.radius*self.height\n",
        "    print(\"surface area of cyliner is:\",area)\n",
        "  \n",
        "  \n"
      ],
      "execution_count": 8,
      "outputs": []
    },
    {
      "cell_type": "code",
      "metadata": {
        "id": "tgS3mhN-18b_",
        "colab": {
          "base_uri": "https://localhost:8080/"
        },
        "outputId": "b2a593ea-81ca-4b84-e9c9-f75d62cf1eee"
      },
      "source": [
        "# Check for sample inputs\n",
        "cy = Cylinder(3,4)\n",
        "cy.volume()\n",
        "cy.surface_area()\n",
        "\n"
      ],
      "execution_count": 11,
      "outputs": [
        {
          "output_type": "stream",
          "text": [
            "volume of cylinder is : 113.04\n",
            "surface area of cyliner is: 75.408\n",
            "3\n"
          ],
          "name": "stdout"
        }
      ]
    },
    {
      "cell_type": "markdown",
      "metadata": {
        "id": "KjPWYK0Rs8By"
      },
      "source": [
        "## <u>Problem 2</u>\n",
        "\n",
        "### You started your own money wallet where your customers can create their accounts and they can either deposit or withdraw money from this wallet.\n",
        "\n",
        "### Write a Python class <code>BankAccount</code> which takes the balance as an attribute. You can initialize the balance with 0 because any new account will have 0 rupees in their wallet. Next write two methods for your class :\n",
        "\n",
        "* #### <code>withdraw()</code> method which takes the amount to be withdrawn as an argument and returns the balance after the withdrawal\n",
        "\n",
        "* #### <code>deposit()</code> method which takes the amount to be deposited as an argument and returns the balance after the deposit.\n",
        "\n",
        "### Keep in mind that if the balance to be withdrawn exceeds the current balance, it should display a message that \"Not enough balance in your account\"\n"
      ]
    },
    {
      "cell_type": "code",
      "metadata": {
        "id": "RxVZTrenzfHC"
      },
      "source": [
        "# Write your BankAccount class below \n",
        "\n",
        "class BankAccount:\n",
        "  def __init__(self,bal=0):\n",
        "    self.balance = bal\n",
        "\n",
        "  def withdraw(self,withdraw_amount):\n",
        "    if self.balance < withdraw_amount:\n",
        "      print(\"Not enough balance in your account\")\n",
        "      return self.balance\n",
        "    else:\n",
        "      self.balance -= withdraw_amount\n",
        "      return self.balance\n",
        "  def deposit(self,deposit_amount):\n",
        "    self.balance += deposit_amount\n",
        "    return self.balance\n",
        "  \n"
      ],
      "execution_count": 18,
      "outputs": []
    },
    {
      "cell_type": "code",
      "metadata": {
        "id": "N1Yhpkiws8B3"
      },
      "source": [
        "# Create two instances of this class for two customers\n",
        "\n",
        "customer1 = BankAccount(10000)\n",
        "customer2 = BankAccount(5000)"
      ],
      "execution_count": 21,
      "outputs": []
    },
    {
      "cell_type": "markdown",
      "metadata": {
        "id": "mSTxPcO3fWeX"
      },
      "source": [
        "### Next add some amount and withdraw some another amount for both the customers."
      ]
    },
    {
      "cell_type": "code",
      "metadata": {
        "id": "KpMdlB5Fs8B8",
        "colab": {
          "base_uri": "https://localhost:8080/"
        },
        "outputId": "8ad0acfa-9348-4247-e52a-3b36da45fa02"
      },
      "source": [
        "# Deposit some amount and withdrawing some amount from the two accounts and check if your method works fine\n",
        "\n",
        "print(customer1.withdraw(5000))\n",
        "print(customer1.deposit(2000))\n",
        "print(customer2.deposit(500))\n",
        "print(customer2.withdraw(6000))\n"
      ],
      "execution_count": 20,
      "outputs": [
        {
          "output_type": "stream",
          "text": [
            "2000\n",
            "4000\n",
            "5500\n",
            "Not enough balance in your account\n",
            "5500\n"
          ],
          "name": "stdout"
        }
      ]
    },
    {
      "cell_type": "markdown",
      "metadata": {
        "id": "5qd8g8UUs8CM"
      },
      "source": [
        "## <u>Problem 3 </u>\n",
        "\n",
        "### Create a class <code>Time </code> which takes two inputs hours and minutes to instantiate.\n",
        "*  #### Construct a method <code>DisplayTime()</code> which displays the time in AM/PM formats. For example if the input is 14 hours and 45 mins, then this method will print \"The time is 2:45 PM\". If the inputted hours exceeds 23 then print the message \"The input hours should be less than 24\" and if the inputted minutes exceeds 59 then print the message \"The input minutes should be less than 60.\" Also if the input is 12 hours 30 minutes, then the displayed time would be 12:30 PM\n",
        "* #### Construct a method <code>DisplayRatio()</code> which should display the ratio of minutes to hours. For example, (8 hours and  16 mins) should display 2. Use <code>try</code>, <code>except</code> block to account for ZeroDivisionError."
      ]
    },
    {
      "cell_type": "code",
      "metadata": {
        "id": "FBJy9Sq_s8CN",
        "colab": {
          "base_uri": "https://localhost:8080/"
        },
        "outputId": "4584cb9f-ab76-4269-8548-66ea51526c9e"
      },
      "source": [
        "class Time:\n",
        "  def __init__(self,h,m):\n",
        "    self.hour = h\n",
        "    self.minutes = m\n",
        "  def DisplayTime(self):\n",
        "    if self.hour > 23:\n",
        "      print(\"input hours should be less than 24.\")\n",
        "    if self.minutes > 59:\n",
        "      print(\"The input minutes should be less than 60.\")\n",
        "    if self.hour >= 12:\n",
        "      d = \"PM\"\n",
        "    else:\n",
        "      d = \"AM\"\n",
        "    self.hour = self.hour%12\n",
        "    if self.hour == 0:\n",
        "      self.hour = 12\n",
        "      \n",
        "    print(\"The time is \" ,self.hour,\":\",self.minutes,\"\",d)\n",
        "\n",
        "  def DisplayRatio(self):\n",
        "    try:\n",
        "      ratio = self.minutes/self.hour\n",
        "      print(\"Ratio of minutes to hour is :\", ratio)\n",
        "    except ZeroDivisionError:\n",
        "      print(\"cannot divide by 0\")\n",
        "\n",
        "t = Time(8,16)\n",
        "t.DisplayTime()\n",
        "t.DisplayRatio()\n",
        "t2 = Time(12,30)\n",
        "t2.DisplayTime()"
      ],
      "execution_count": 75,
      "outputs": [
        {
          "output_type": "stream",
          "text": [
            "The time is  8 : 16  AM\n",
            "Ratio of minutes to hour is : 2.0\n",
            "The time is  12 : 30  PM\n"
          ],
          "name": "stdout"
        }
      ]
    },
    {
      "cell_type": "code",
      "metadata": {
        "id": "zywXa51d6Eev",
        "colab": {
          "base_uri": "https://localhost:8080/"
        },
        "outputId": "9e1beb65-4c0a-4e98-df06-2a4f9428df9f"
      },
      "source": [
        "# Check for few sample inputs of hours and mins\n",
        "hour_min_list = [(23,45), (34,50), (12,34), (14,67),(19,20), (2,15), (0, 10)]\n",
        "\n",
        "# Using a for loop display the corresponding 12 hour time format for the above hour_min_list\n",
        "for i in hour_min_list:\n",
        "    time = Time(i[0],i[1])\n",
        "    time.DisplayTime()\n",
        "\n",
        "# Also display the corresponding ratios for the above list\n",
        "    time.DisplayRatio()\n",
        "\n"
      ],
      "execution_count": 73,
      "outputs": [
        {
          "output_type": "stream",
          "text": [
            "The time is  11 : 45  PM\n",
            "Ratio of minutes to hour is : 4.090909090909091\n",
            "input hours should be less than 24.\n",
            "The time is  10 : 50  PM\n",
            "Ratio of minutes to hour is : 5.0\n",
            "The time is  12 : 34  PM\n",
            "Ratio of minutes to hour is : 2.8333333333333335\n",
            "The input minutes should be less than 60.\n",
            "The time is  2 : 67  PM\n",
            "Ratio of minutes to hour is : 33.5\n",
            "The time is  7 : 20  PM\n",
            "Ratio of minutes to hour is : 2.857142857142857\n",
            "The time is  2 : 15  AM\n",
            "Ratio of minutes to hour is : 7.5\n",
            "The time is  12 : 10  AM\n",
            "Ratio of minutes to hour is : 0.8333333333333334\n"
          ],
          "name": "stdout"
        }
      ]
    },
    {
      "cell_type": "code",
      "metadata": {
        "id": "mgcu1_SAjAqF"
      },
      "source": [
        ""
      ],
      "execution_count": null,
      "outputs": []
    }
  ]
}